{
  "nbformat": 4,
  "nbformat_minor": 0,
  "metadata": {
    "colab": {
      "name": "Transfer Learning",
      "provenance": [],
      "collapsed_sections": []
    },
    "kernelspec": {
      "name": "python3",
      "display_name": "Python 3"
    },
    "accelerator": "GPU"
  },
  "cells": [
    {
      "cell_type": "code",
      "metadata": {
        "id": "IAP1QHChVQZ1",
        "colab_type": "code",
        "colab": {}
      },
      "source": [
        "import zipfile, os\n",
        "local_zip = '/content/dataset.zip'\n",
        "zip_ref = zipfile.ZipFile(local_zip, 'r')\n",
        "zip_ref.extractall()\n",
        "zip_ref.close()"
      ],
      "execution_count": null,
      "outputs": []
    },
    {
      "cell_type": "code",
      "metadata": {
        "id": "7kxAQEScVyw0",
        "colab_type": "code",
        "colab": {
          "base_uri": "https://localhost:8080/",
          "height": 34
        },
        "outputId": "24f1b8c8-4cde-4eb9-b631-cd0742c71aa1"
      },
      "source": [
        "import numpy as np\n",
        "from keras.preprocessing.image import ImageDataGenerator\n",
        "from keras.models import Sequential\n",
        "from keras.layers import Dropout, Flatten, Dense\n",
        "from keras import applications\n",
        "from keras.optimizers import Adam\n",
        "from keras.callbacks import TensorBoard\n",
        "\n",
        "# Images Dimensions\n",
        "img_width, img_height = 128, 128\n",
        "\n",
        "train_data_dir = '/content/train'\n",
        "validation_data_dir = '/content/validation'\n",
        "nb_train_samples = 800\n",
        "nb_validation_samples = 240\n",
        "epochs = 50\n",
        "batch_size = 16"
      ],
      "execution_count": null,
      "outputs": [
        {
          "output_type": "stream",
          "text": [
            "Using TensorFlow backend.\n"
          ],
          "name": "stderr"
        }
      ]
    },
    {
      "cell_type": "code",
      "metadata": {
        "id": "AudvaEZSV2Rf",
        "colab_type": "code",
        "colab": {
          "base_uri": "https://localhost:8080/",
          "height": 85
        },
        "outputId": "1bc4dc24-e893-4371-b4f5-20ef05bf099b"
      },
      "source": [
        "# TensorBoard Callbacks\n",
        "callbacks = TensorBoard(log_dir='./Graph')\n",
        "\n",
        "# Build VGG16\n",
        "model = applications.VGG16(include_top=False, weights='imagenet')\n",
        "\n",
        "# Training Data Augmentation\n",
        "train_datagen = ImageDataGenerator(\n",
        "    rescale=1. / 255,\n",
        "    shear_range=0.2,\n",
        "    zoom_range=0.2,\n",
        "    horizontal_flip=True)\n",
        "\n",
        "# Rescale Testing Data\n",
        "test_datagen = ImageDataGenerator(rescale=1. / 255)\n",
        "\n",
        "# Train Data Generator\n",
        "train_generator = train_datagen.flow_from_directory(\n",
        "    train_data_dir,\n",
        "    target_size=(img_width, img_height),\n",
        "    batch_size=batch_size,\n",
        "    class_mode='binary')\n",
        "train_features = model.predict_generator(\n",
        "    train_generator, nb_train_samples // batch_size, verbose=1)\n",
        "np.save('train_features.npy', train_features)\n",
        "\n",
        "# Testing Data Generator\n",
        "validation_generator = test_datagen.flow_from_directory(\n",
        "    validation_data_dir,\n",
        "    target_size=(img_width, img_height),\n",
        "    batch_size=batch_size,\n",
        "    class_mode='binary')\n",
        "validation_features = model.predict_generator(\n",
        "    validation_generator, nb_validation_samples // batch_size, verbose=1)\n",
        "np.save('val_features.npy', validation_features)"
      ],
      "execution_count": null,
      "outputs": [
        {
          "output_type": "stream",
          "text": [
            "Found 800 images belonging to 2 classes.\n",
            "50/50 [==============================] - 8s 159ms/step\n",
            "Found 240 images belonging to 2 classes.\n",
            "15/15 [==============================] - 1s 74ms/step\n"
          ],
          "name": "stdout"
        }
      ]
    },
    {
      "cell_type": "code",
      "metadata": {
        "id": "xdDAR_izWJY9",
        "colab_type": "code",
        "colab": {}
      },
      "source": [
        "# Build Train Data\n",
        "train_data = np.load('/content/train_features.npy')\n",
        "train_labels = np.array(\n",
        "    [0] * (nb_train_samples // 2) + [1] * (nb_train_samples // 2))\n",
        "\n",
        "# Build Validation Data\n",
        "validation_data = np.load('/content/val_features.npy')\n",
        "validation_labels = np.array(\n",
        "    [0] * (nb_validation_samples // 2) + [1] * (nb_validation_samples // 2))"
      ],
      "execution_count": null,
      "outputs": []
    },
    {
      "cell_type": "code",
      "metadata": {
        "id": "eOb3uNr2WpLO",
        "colab_type": "code",
        "colab": {}
      },
      "source": [
        "# Build FC Layer\n",
        "fc_model = Sequential()\n",
        "fc_model.add(Flatten(input_shape=train_data.shape[1:]))\n",
        "fc_model.add(Dense(32, activation='relu'))\n",
        "fc_model.add(Dense(1, activation='sigmoid'))\n"
      ],
      "execution_count": null,
      "outputs": []
    },
    {
      "cell_type": "code",
      "metadata": {
        "id": "ge7U6daGWtZj",
        "colab_type": "code",
        "colab": {
          "base_uri": "https://localhost:8080/",
          "height": 1000
        },
        "outputId": "b05e7451-bc7f-48a4-d0c5-cd174aff705e"
      },
      "source": [
        "# Adam Optimizer and Cross Entropy Loss\n",
        "adam = Adam(lr=0.001)\n",
        "fc_model.compile(optimizer=adam,\n",
        "                loss='binary_crossentropy', metrics=['accuracy'])\n",
        "\n",
        "fc_model.fit(train_data, train_labels,\n",
        "            epochs=epochs,\n",
        "            batch_size=batch_size,\n",
        "            validation_data=(validation_data, validation_labels), \n",
        "            callbacks=[callbacks])\n",
        "            \n",
        "fc_model.save_weights('vgg16.py')"
      ],
      "execution_count": null,
      "outputs": [
        {
          "output_type": "stream",
          "text": [
            "Train on 800 samples, validate on 240 samples\n",
            "Epoch 1/50\n",
            "800/800 [==============================] - 0s 529us/step - loss: 0.7249 - accuracy: 0.5100 - val_loss: 0.6950 - val_accuracy: 0.5000\n",
            "Epoch 2/50\n",
            "800/800 [==============================] - 0s 359us/step - loss: 0.6844 - accuracy: 0.5075 - val_loss: 0.7116 - val_accuracy: 0.4333\n",
            "Epoch 3/50\n",
            "800/800 [==============================] - 0s 364us/step - loss: 0.6714 - accuracy: 0.5775 - val_loss: 0.7168 - val_accuracy: 0.4375\n",
            "Epoch 4/50\n",
            "800/800 [==============================] - 0s 377us/step - loss: 0.6518 - accuracy: 0.6075 - val_loss: 0.7101 - val_accuracy: 0.4458\n",
            "Epoch 5/50\n",
            "800/800 [==============================] - 0s 383us/step - loss: 0.6258 - accuracy: 0.6637 - val_loss: 0.7472 - val_accuracy: 0.4750\n",
            "Epoch 6/50\n",
            "800/800 [==============================] - 0s 344us/step - loss: 0.5962 - accuracy: 0.7075 - val_loss: 0.7380 - val_accuracy: 0.4833\n",
            "Epoch 7/50\n",
            "800/800 [==============================] - 0s 368us/step - loss: 0.5602 - accuracy: 0.7350 - val_loss: 0.7905 - val_accuracy: 0.4833\n",
            "Epoch 8/50\n",
            "800/800 [==============================] - 0s 378us/step - loss: 0.5159 - accuracy: 0.8087 - val_loss: 0.8235 - val_accuracy: 0.4708\n",
            "Epoch 9/50\n",
            "800/800 [==============================] - 0s 359us/step - loss: 0.4857 - accuracy: 0.8238 - val_loss: 0.9553 - val_accuracy: 0.4792\n",
            "Epoch 10/50\n",
            "800/800 [==============================] - 0s 358us/step - loss: 0.4543 - accuracy: 0.8575 - val_loss: 0.9486 - val_accuracy: 0.4958\n",
            "Epoch 11/50\n",
            "800/800 [==============================] - 0s 371us/step - loss: 0.4209 - accuracy: 0.8900 - val_loss: 0.9056 - val_accuracy: 0.5333\n",
            "Epoch 12/50\n",
            "800/800 [==============================] - 0s 365us/step - loss: 0.4026 - accuracy: 0.9038 - val_loss: 0.9594 - val_accuracy: 0.4833\n",
            "Epoch 13/50\n",
            "800/800 [==============================] - 0s 369us/step - loss: 0.3767 - accuracy: 0.9325 - val_loss: 0.9271 - val_accuracy: 0.5417\n",
            "Epoch 14/50\n",
            "800/800 [==============================] - 0s 355us/step - loss: 0.3539 - accuracy: 0.9425 - val_loss: 0.9794 - val_accuracy: 0.5125\n",
            "Epoch 15/50\n",
            "800/800 [==============================] - 0s 394us/step - loss: 0.3303 - accuracy: 0.9600 - val_loss: 0.9139 - val_accuracy: 0.4917\n",
            "Epoch 16/50\n",
            "800/800 [==============================] - 0s 365us/step - loss: 0.3161 - accuracy: 0.9638 - val_loss: 1.0642 - val_accuracy: 0.5542\n",
            "Epoch 17/50\n",
            "800/800 [==============================] - 0s 365us/step - loss: 0.2972 - accuracy: 0.9613 - val_loss: 1.0875 - val_accuracy: 0.5333\n",
            "Epoch 18/50\n",
            "800/800 [==============================] - 0s 361us/step - loss: 0.2836 - accuracy: 0.9725 - val_loss: 1.1482 - val_accuracy: 0.5375\n",
            "Epoch 19/50\n",
            "800/800 [==============================] - 0s 377us/step - loss: 0.2718 - accuracy: 0.9737 - val_loss: 1.1612 - val_accuracy: 0.5292\n",
            "Epoch 20/50\n",
            "800/800 [==============================] - 0s 352us/step - loss: 0.2623 - accuracy: 0.9750 - val_loss: 1.3402 - val_accuracy: 0.4917\n",
            "Epoch 21/50\n",
            "800/800 [==============================] - 0s 356us/step - loss: 0.2613 - accuracy: 0.9775 - val_loss: 1.1057 - val_accuracy: 0.5167\n",
            "Epoch 22/50\n",
            "800/800 [==============================] - 0s 363us/step - loss: 0.2403 - accuracy: 0.9750 - val_loss: 1.1704 - val_accuracy: 0.5292\n",
            "Epoch 23/50\n",
            "800/800 [==============================] - 0s 366us/step - loss: 0.2326 - accuracy: 0.9787 - val_loss: 1.3171 - val_accuracy: 0.5042\n",
            "Epoch 24/50\n",
            "800/800 [==============================] - 0s 343us/step - loss: 0.2246 - accuracy: 0.9775 - val_loss: 1.4184 - val_accuracy: 0.5333\n",
            "Epoch 25/50\n",
            "800/800 [==============================] - 0s 349us/step - loss: 0.2150 - accuracy: 0.9775 - val_loss: 1.3093 - val_accuracy: 0.5208\n",
            "Epoch 26/50\n",
            "800/800 [==============================] - 0s 358us/step - loss: 0.2089 - accuracy: 0.9775 - val_loss: 1.3405 - val_accuracy: 0.5500\n",
            "Epoch 27/50\n",
            "800/800 [==============================] - 0s 355us/step - loss: 0.2031 - accuracy: 0.9787 - val_loss: 1.2254 - val_accuracy: 0.5375\n",
            "Epoch 28/50\n",
            "800/800 [==============================] - 0s 343us/step - loss: 0.1982 - accuracy: 0.9787 - val_loss: 1.4186 - val_accuracy: 0.5292\n",
            "Epoch 29/50\n",
            "800/800 [==============================] - 0s 348us/step - loss: 0.1908 - accuracy: 0.9775 - val_loss: 1.4861 - val_accuracy: 0.5250\n",
            "Epoch 30/50\n",
            "800/800 [==============================] - 0s 351us/step - loss: 0.1860 - accuracy: 0.9787 - val_loss: 1.2877 - val_accuracy: 0.5250\n",
            "Epoch 31/50\n",
            "800/800 [==============================] - 0s 344us/step - loss: 0.1817 - accuracy: 0.9775 - val_loss: 1.3812 - val_accuracy: 0.5417\n",
            "Epoch 32/50\n",
            "800/800 [==============================] - 0s 352us/step - loss: 0.1754 - accuracy: 0.9787 - val_loss: 1.3411 - val_accuracy: 0.5292\n",
            "Epoch 33/50\n",
            "800/800 [==============================] - 0s 344us/step - loss: 0.1733 - accuracy: 0.9800 - val_loss: 1.4844 - val_accuracy: 0.5250\n",
            "Epoch 34/50\n",
            "800/800 [==============================] - 0s 359us/step - loss: 0.1683 - accuracy: 0.9775 - val_loss: 1.5373 - val_accuracy: 0.5208\n",
            "Epoch 35/50\n",
            "800/800 [==============================] - 0s 344us/step - loss: 0.1655 - accuracy: 0.9787 - val_loss: 1.6932 - val_accuracy: 0.5208\n",
            "Epoch 36/50\n",
            "800/800 [==============================] - 0s 370us/step - loss: 0.1614 - accuracy: 0.9787 - val_loss: 1.6485 - val_accuracy: 0.5250\n",
            "Epoch 37/50\n",
            "800/800 [==============================] - 0s 370us/step - loss: 0.1570 - accuracy: 0.9800 - val_loss: 1.4925 - val_accuracy: 0.5250\n",
            "Epoch 38/50\n",
            "800/800 [==============================] - 0s 361us/step - loss: 0.1516 - accuracy: 0.9812 - val_loss: 1.5614 - val_accuracy: 0.5167\n",
            "Epoch 39/50\n",
            "800/800 [==============================] - 0s 357us/step - loss: 0.1477 - accuracy: 0.9812 - val_loss: 1.6502 - val_accuracy: 0.5208\n",
            "Epoch 40/50\n",
            "800/800 [==============================] - 0s 358us/step - loss: 0.1441 - accuracy: 0.9812 - val_loss: 1.5627 - val_accuracy: 0.5250\n",
            "Epoch 41/50\n",
            "800/800 [==============================] - 0s 345us/step - loss: 0.1424 - accuracy: 0.9812 - val_loss: 1.4354 - val_accuracy: 0.5042\n",
            "Epoch 42/50\n",
            "800/800 [==============================] - 0s 340us/step - loss: 0.1385 - accuracy: 0.9812 - val_loss: 1.5932 - val_accuracy: 0.5292\n",
            "Epoch 43/50\n",
            "800/800 [==============================] - 0s 350us/step - loss: 0.1366 - accuracy: 0.9812 - val_loss: 1.5339 - val_accuracy: 0.5000\n",
            "Epoch 44/50\n",
            "800/800 [==============================] - 0s 339us/step - loss: 0.1328 - accuracy: 0.9812 - val_loss: 1.5907 - val_accuracy: 0.5083\n",
            "Epoch 45/50\n",
            "800/800 [==============================] - 0s 350us/step - loss: 0.1312 - accuracy: 0.9812 - val_loss: 1.6587 - val_accuracy: 0.5292\n",
            "Epoch 46/50\n",
            "800/800 [==============================] - 0s 358us/step - loss: 0.1288 - accuracy: 0.9812 - val_loss: 1.6015 - val_accuracy: 0.5250\n",
            "Epoch 47/50\n",
            "800/800 [==============================] - 0s 366us/step - loss: 0.1272 - accuracy: 0.9812 - val_loss: 1.6016 - val_accuracy: 0.5208\n",
            "Epoch 48/50\n",
            "800/800 [==============================] - 0s 348us/step - loss: 0.1250 - accuracy: 0.9812 - val_loss: 1.6030 - val_accuracy: 0.5042\n",
            "Epoch 49/50\n",
            "800/800 [==============================] - 0s 344us/step - loss: 0.1229 - accuracy: 0.9812 - val_loss: 1.6525 - val_accuracy: 0.4958\n",
            "Epoch 50/50\n",
            "800/800 [==============================] - 0s 404us/step - loss: 0.1236 - accuracy: 0.9812 - val_loss: 1.5891 - val_accuracy: 0.5000\n"
          ],
          "name": "stdout"
        }
      ]
    },
    {
      "cell_type": "code",
      "metadata": {
        "id": "c4tBBsi1XET5",
        "colab_type": "code",
        "colab": {
          "base_uri": "https://localhost:8080/",
          "height": 170
        },
        "outputId": "b11d7116-00dd-44f9-c353-f37d17aa0307"
      },
      "source": [
        "img_width, img_height = 128, 128\n",
        "\n",
        "test_data_dir = '/content/testing'\n",
        "\n",
        "def get_features():\n",
        "    datagen = ImageDataGenerator(rescale=1. / 255)\n",
        "\n",
        "    # build the VGG16 network\n",
        "    model = applications.VGG16(include_top=False, weights='imagenet')\n",
        "\n",
        "    generator = datagen.flow_from_directory(\n",
        "        test_data_dir,\n",
        "        target_size=(img_width, img_height),\n",
        "        batch_size=1,\n",
        "        class_mode='binary',\n",
        "        shuffle=False)\n",
        "    features = model.predict_generator(\n",
        "        generator, 8)\n",
        "    return features\n",
        "\n",
        "def get_score():\n",
        "    features = get_features()    \n",
        "\n",
        "    model = Sequential()\n",
        "    model.add(Flatten(input_shape=features.shape[1:]))\n",
        "    model.add(Dense(32, activation='relu'))\n",
        "    model.add(Dense(1, activation='sigmoid'))\n",
        "        \n",
        "    model.load_weights('vgg16.py')\n",
        "\n",
        "    score = model.predict(features)\n",
        "    print(score)\n",
        "\n",
        "get_score()"
      ],
      "execution_count": null,
      "outputs": [
        {
          "output_type": "stream",
          "text": [
            "Found 8 images belonging to 1 classes.\n",
            "[[1.3124238e-03]\n",
            " [1.6949630e-03]\n",
            " [4.6492147e-01]\n",
            " [4.2930278e-03]\n",
            " [3.6501118e-03]\n",
            " [1.1032242e-03]\n",
            " [6.7154646e-01]\n",
            " [3.4691475e-05]]\n"
          ],
          "name": "stdout"
        }
      ]
    },
    {
      "cell_type": "code",
      "metadata": {
        "id": "rhkC359Zm9zB",
        "colab_type": "code",
        "colab": {
          "base_uri": "https://localhost:8080/",
          "height": 285
        },
        "outputId": "f42a9e6d-8771-4f66-fdc8-ae75c8d7bc82"
      },
      "source": [
        "%pylab inline\n",
        "import matplotlib.pyplot as plt\n",
        "import matplotlib.image as mpimg\n",
        "img=mpimg.imread('/content/testing/face/2.jpg')\n",
        "imgplot = plt.imshow(img)\n",
        "plt.show()"
      ],
      "execution_count": null,
      "outputs": [
        {
          "output_type": "stream",
          "text": [
            "Populating the interactive namespace from numpy and matplotlib\n"
          ],
          "name": "stdout"
        },
        {
          "output_type": "display_data",
          "data": {
            "image/png": "[encoded data removed]",
            "text/plain": [
              "<Figure size 432x288 with 1 Axes>"
            ]
          },
          "metadata": {
            "tags": [],
            "needs_background": "light"
          }
        }
      ]
    },
    {
      "cell_type": "markdown",
      "metadata": {
        "id": "eALFC-8E6eQd",
        "colab_type": "text"
      },
      "source": [
        "PRE TRAINED MODEL"
      ]
    },
    {
      "cell_type": "code",
      "metadata": {
        "id": "9QIVieif84TF",
        "colab_type": "code",
        "colab": {}
      },
      "source": [
        "from keras.applications import densenet\n",
        "from keras.preprocessing import image\n",
        "from keras import applications\n",
        "from keras.applications.densenet import preprocess_input, decode_predictions\n",
        "import numpy as np\n",
        "from keras.layers import Dense, GlobalAveragePooling2D\n",
        "from keras.preprocessing.image import ImageDataGenerator\n",
        "from keras.models import Model\n",
        "from keras.optimizers import Adam\n",
        "import os\n",
        "\n",
        "# Images Dimensions\n",
        "img_width, img_height = 128, 128\n",
        "\n",
        "train_data_dir = '/content/train'\n",
        "validation_data_dir = '/content/validation'\n",
        "nb_train_samples = 800\n",
        "nb_validation_samples = 240\n",
        "epochs = 50\n",
        "batch_size = 16\n",
        "\n",
        "train_datagen = ImageDataGenerator(preprocessing_function=preprocess_input)\n",
        "\n",
        "train_generator = train_datagen.flow_from_directory(\n",
        "    train_data_dir,\n",
        "    target_size=(img_width, img_height),\n",
        "    batch_size=batch_size,\n",
        "    class_mode='binary')\n",
        "\n",
        "category_dict = train_generator.class_indices\n",
        "print(category_dict)\n",
        "\n",
        "number_of_classes = len(category_dict)\n",
        "\n",
        "model = applications.VGG16(include_top=False, weights='imagenet')\n",
        "x = model.output\n",
        "x = GlobalAveragePooling2D()(x)\n",
        "x = Dense(32, activation='relu')(x)\n",
        "x = Dense(16, activation='relu')(x)\n",
        "preds = Dense(1, activation='sigmoid')(x)\n",
        "\n",
        "model = Model(inputs=model.input, outputs=preds)"
      ],
      "execution_count": null,
      "outputs": []
    },
    {
      "cell_type": "code",
      "metadata": {
        "id": "kpJOl2yj6kqo",
        "colab_type": "code",
        "colab": {
          "base_uri": "https://localhost:8080/",
          "height": 34
        },
        "outputId": "d5e5f1a6-4be1-44a7-bb01-661936433d91"
      },
      "source": [
        "print(len(model.layers))"
      ],
      "execution_count": null,
      "outputs": [
        {
          "output_type": "stream",
          "text": [
            "23\n"
          ],
          "name": "stdout"
        }
      ]
    },
    {
      "cell_type": "code",
      "metadata": {
        "id": "0MTG8TtL4-Gs",
        "colab_type": "code",
        "colab": {}
      },
      "source": [
        "# Set the first n_freeze layers of the network to be non-trainable.\n",
        "n_freeze = 3\n",
        "for layer in model.layers[:n_freeze]:\n",
        "    layer.trainable=False\n",
        "for layer in model.layers[n_freeze:]:\n",
        "    layer.trainable=True"
      ],
      "execution_count": null,
      "outputs": []
    },
    {
      "cell_type": "code",
      "metadata": {
        "id": "E_KcT0AIAMjR",
        "colab_type": "code",
        "colab": {}
      },
      "source": [
        "adam = Adam(lr=0.001)\n",
        "model.compile(optimizer=adam,\n",
        "                loss='binary_crossentropy', metrics=['accuracy'])\n",
        "\n",
        "step_size_train = train_generator.n//train_generator.batch_size\n",
        "model.fit_generator(generator=train_generator, \n",
        "                    steps_per_epoch=step_size_train, \n",
        "                    epochs=10)"
      ],
      "execution_count": null,
      "outputs": []
    },
    {
      "cell_type": "markdown",
      "metadata": {
        "id": "QDwiOxlNBli0",
        "colab_type": "text"
      },
      "source": [
        "XCEPTION"
      ]
    },
    {
      "cell_type": "code",
      "metadata": {
        "id": "IXvUotoxAV90",
        "colab_type": "code",
        "colab": {}
      },
      "source": [
        "import numpy as np\n",
        "from keras.preprocessing.image import ImageDataGenerator\n",
        "from keras.models import Sequential\n",
        "from keras.layers import Dropout, Flatten, Dense\n",
        "from keras import applications\n",
        "from keras.optimizers import Adam\n",
        "from keras.callbacks import TensorBoard\n",
        "\n",
        "# Images Dimensions\n",
        "img_width, img_height = 128, 128\n",
        "\n",
        "train_data_dir = '/content/train'\n",
        "validation_data_dir = '/content/validation'\n",
        "nb_train_samples = 800\n",
        "nb_validation_samples = 240\n",
        "epochs = 50\n",
        "batch_size = 16\n",
        "\n",
        "# TensorBoard Callbacks\n",
        "callbacks = TensorBoard(log_dir='./Graph')\n",
        "\n",
        "# Build VGG16\n",
        "model = applications.Xception(include_top=False, weights='imagenet')\n",
        "\n",
        "# Training Data Augmentation\n",
        "train_datagen = ImageDataGenerator(\n",
        "    rescale=1. / 255,\n",
        "    shear_range=0.2,\n",
        "    zoom_range=0.2,\n",
        "    horizontal_flip=True)\n",
        "\n",
        "# Rescale Testing Data\n",
        "test_datagen = ImageDataGenerator(rescale=1. / 255)\n",
        "\n",
        "# Train Data Generator\n",
        "train_generator = train_datagen.flow_from_directory(\n",
        "    train_data_dir,\n",
        "    target_size=(img_width, img_height),\n",
        "    batch_size=batch_size,\n",
        "    class_mode='binary')\n",
        "train_features = model.predict_generator(\n",
        "    train_generator, nb_train_samples // batch_size, verbose=1)\n",
        "np.save('train_features.npy', train_features)\n",
        "\n",
        "# Testing Data Generator\n",
        "validation_generator = test_datagen.flow_from_directory(\n",
        "    validation_data_dir,\n",
        "    target_size=(img_width, img_height),\n",
        "    batch_size=batch_size,\n",
        "    class_mode='binary')\n",
        "validation_features = model.predict_generator(\n",
        "    validation_generator, nb_validation_samples // batch_size, verbose=1)\n",
        "np.save('val_features.npy', validation_features)\n",
        "\n",
        "# Build Train Data\n",
        "train_data = np.load('/content/train_features.npy')\n",
        "train_labels = np.array(\n",
        "    [0] * (nb_train_samples // 2) + [1] * (nb_train_samples // 2))\n",
        "\n",
        "# Build Validation Data\n",
        "validation_data = np.load('/content/val_features.npy')\n",
        "validation_labels = np.array(\n",
        "    [0] * (nb_validation_samples // 2) + [1] * (nb_validation_samples // 2))\n",
        "\n",
        "# Build FC Layer\n",
        "fc_model = Sequential()\n",
        "fc_model.add(Flatten(input_shape=train_data.shape[1:]))\n",
        "fc_model.add(Dense(32, activation='relu'))\n",
        "fc_model.add(Dense(1, activation='sigmoid'))\n",
        "\n",
        "# Adam Optimizer and Cross Entropy Loss\n",
        "adam = Adam(lr=0.0001)\n",
        "fc_model.compile(optimizer=adam,\n",
        "                loss='binary_crossentropy', metrics=['accuracy'])\n",
        "\n",
        "fc_model.fit(train_data, train_labels,\n",
        "            epochs=epochs,\n",
        "            batch_size=batch_size,\n",
        "            validation_data=(validation_data, validation_labels), \n",
        "            callbacks=[callbacks])"
      ],
      "execution_count": null,
      "outputs": []
    },
    {
      "cell_type": "code",
      "metadata": {
        "id": "Z1fzq0BUCLe3",
        "colab_type": "code",
        "colab": {}
      },
      "source": [
        ""
      ],
      "execution_count": null,
      "outputs": []
    }
  ]
}